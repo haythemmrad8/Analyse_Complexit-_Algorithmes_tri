{
 "cells": [
  {
   "cell_type": "markdown",
   "metadata": {},
   "source": [
    "##### <center> MINISTERE DE L’ENSEIGNEMENT SUPERIEUR  ET DE LA RECHERCHE SCIENTIFIQUE <br/> UNIVERSITE DE SOUSSE </center>\n",
    "\n",
    "### <center>Institut Supérieur d’Informatique et de Technique de Communication </center>           <img src=\"isitcom.png\"> \n",
    "### <center>المعهد العالي للإعلامية و تقنيات الاتصال بحمام سوسة</center>\n",
    "\n",
    "## <center> Algorithmique avancée</center>\n",
    "\n",
    "# <center> <span style=\"color:red\"> Analyse et  Complexité des Algorithmes de TRI</span></center>\n",
    "<hr>\n",
    "\n",
    "###  <center> Réalisé par : <br> Mrad Haythem 2DNI1 <center> <hr>\n",
    "\n",
    "#### <center> Année Universitaire 2020 – 2021 <center>\n",
    "<hr>"
   ]
  },
  {
   "cell_type": "markdown",
   "metadata": {},
   "source": [
    "## Sommaire\n",
    "<ol>\n",
    "    <li> Introduction\n",
    "<li>Tri par sélection\n",
    "<li>Tri à bulle\n",
    "<li>Tri par insertion\n",
    "<li>Tri par fusion\n",
    "<li>Tri rapide\n",
    "<li> mesurer le temps d’exécution\n",
    " <ol>\n",
    "     <hr>"
   ]
  },
  {
   "cell_type": "markdown",
   "metadata": {},
   "source": [
    "# <span style=\"color:#8B0000\"> 1 - INTRODUCTION : "
   ]
  },
  {
   "cell_type": "markdown",
   "metadata": {},
   "source": [
    " <b>Problématique</b> - Etant donnée une séquence d’objets (un vecteur), ordonner les éléments de cette séquence en ordre croissant; ou décroissant\n",
    " <ul> Pour résoudre ce problème, nous avons besoin :\n",
    "    <ul> <u>d’une séquence d’éléments</u>\n",
    " <li>tous les éléments sont du même type\n",
    " <li> aucune restriction sur la taille de cette séquence\n",
    "<li> sans perte de généralités, on supposera que le vecteur est un\n",
    "tableau\n",
    "    </ul>\n",
    "    <ul>\n",
    " <u>une fonction de comparaison</u>\n",
    " <li>étant donné deux éléments; elle détermine celui plus petit\n",
    "(plus grand)\n",
    " <li>permet de définir une relation d’ordre sur les élément\n",
    "     </ul>\n",
    "    </ul>\n"
   ]
  },
  {
   "cell_type": "markdown",
   "metadata": {},
   "source": [
    "## <span style=\"color:#8B0000\">2- TRI PAR SELECTION: "
   ]
  },
  {
   "cell_type": "code",
   "execution_count": 1,
   "metadata": {},
   "outputs": [
    {
     "name": "stdout",
     "output_type": "stream",
     "text": [
      "Le tableau trié est:\n",
      "1\n",
      "2\n",
      "14\n",
      "15\n",
      "52\n",
      "55\n",
      "88\n",
      "147\n"
     ]
    }
   ],
   "source": [
    "def tri_selection(tab):\n",
    "   for i in range(len(tab)):\n",
    "      # Trouver le min\n",
    "       min = i\n",
    "       for j in range(i+1, len(tab)):\n",
    "           if tab[min] > tab[j]:\n",
    "               min = j\n",
    "                \n",
    "       tmp = tab[i]\n",
    "       tab[i] = tab[min]\n",
    "       tab[min] = tmp\n",
    "   return tab\n",
    "#  tester le code\n",
    "tab = [55, 14, 15, 1, 2, 147, 52, 88]\n",
    " \n",
    "tri_selection(tab)\n",
    " \n",
    "print (\"Le tableau trié est:\")\n",
    "for i in range(len(tab)):\n",
    "    print (\"%d\" %tab[i])\n"
   ]
  },
  {
   "cell_type": "markdown",
   "metadata": {},
   "source": [
    "<hr>"
   ]
  },
  {
   "cell_type": "markdown",
   "metadata": {},
   "source": [
    "\n",
    "###  <span style=\"color:green\"> Conclusion\n",
    "<ul>\n",
    "<li>Le tri par sélection est assez facile à écrire.\n",
    "<li>Sa complexité spatiale est constante.\n",
    "<li>Il a une complexité temporelle O(n2) dans le cas le pire\n",
    "comme dans le cas le meilleur, il ne permet donc pas de trier\n",
    "de grands tableaux.\n",
    "<li>Il ne sait pas tirer parti du fait que les données à trier sont\n",
    "déjà triées, ou presque triées.\n",
    "    </ul>\n",
    "    <hr>"
   ]
  },
  {
   "cell_type": "markdown",
   "metadata": {},
   "source": [
    "## <span style=\"color:#8B0000\"> 3- TRI A BULLE :  "
   ]
  },
  {
   "cell_type": "code",
   "execution_count": 2,
   "metadata": {},
   "outputs": [
    {
     "name": "stdout",
     "output_type": "stream",
     "text": [
      "Le tableau trié est:\n",
      "1\n",
      "2\n",
      "14\n",
      "15\n",
      "52\n",
      "55\n",
      "88\n",
      "147\n"
     ]
    }
   ],
   "source": [
    "#  l'implémentation du Tri à bulle\n",
    " \n",
    "def tri_bulle(tab):\n",
    "    n = len(tab)\n",
    "    for i in range(n):\n",
    "        for j in range(0, n-i-1):\n",
    "            if tab[j] > tab[j+1] :\n",
    "                tab[j], tab[j+1] = tab[j+1], tab[j]\n",
    "\n",
    "\n",
    "#  tester le code ci-dessus\n",
    "tab = [55, 14, 15, 1, 2, 147, 52, 88]\n",
    "tri_bulle(tab)\n",
    "print (\"Le tableau trié est:\")\n",
    "for i in range(len(tab)):\n",
    "    print (\"%d\" %tab[i])"
   ]
  },
  {
   "cell_type": "markdown",
   "metadata": {},
   "source": [
    "###  <span style=\"color:green\"> Conclusion\n",
    "<ul>\n",
    "<li>Le tri à bulles est l'un des plus mauvais tris en raison de sa forte complexité qui entraîne un temps d'exécution trop long. \n",
    "    <li>cette méthode de tri ne cesse d'être utilisée et ce, sûrement, pour son originalité. Mais il faut tout de même savoir qu'elle est relativement suffisante pour des listes de petites tailles sur un ordinateur, \n",
    "        <li>. À partir de vingt éléments, il est déjà préférable d'utiliser un autre tri plus adapté. Il faut choisir son algorithme en fonction de ses besoins. Peut-être, un jour, aurez-vous besoin du tri à bulles.\n",
    "    </ul>"
   ]
  },
  {
   "cell_type": "markdown",
   "metadata": {},
   "source": [
    "## <span style=\"color:#8B0000\">4- TRI PAR INSERTION:"
   ]
  },
  {
   "cell_type": "code",
   "execution_count": 3,
   "metadata": {},
   "outputs": [
    {
     "name": "stdout",
     "output_type": "stream",
     "text": [
      "Le tableau trié est:\n",
      " 1\n",
      " 2\n",
      " 14\n",
      " 15\n",
      " 52\n",
      " 55\n",
      " 88\n",
      " 147\n"
     ]
    }
   ],
   "source": [
    "#  l'implémentation du tri par insertion\n",
    "def tri_insertion(tab): \n",
    "    for i in range(1, len(tab)): \n",
    "        k = tab[i] \n",
    "        j = i-1\n",
    "        while j >= 0 and k < tab[j] : \n",
    "                tab[j + 1] = tab[j] \n",
    "                j -= 1\n",
    "        tab[j + 1] = k\n",
    "#  tester le code ci-dessus\n",
    "tab = [55, 14, 15, 1, 2, 147, 52, 88]\n",
    "tri_insertion(tab) \n",
    "print (\"Le tableau trié est:\")\n",
    "for i in range(len(tab)): \n",
    "        print (\"% d\" % tab[i])"
   ]
  },
  {
   "cell_type": "markdown",
   "metadata": {},
   "source": [
    "###  <span style=\"color:green\"> Conclusion\n",
    "<ul>\n",
    "<li>Simple à écrire et à justifier.\n",
    "<li>Sans doute le tri naïf le plus efficace : travaille en temps linéaire lorsque le tableau est trié ou presque trié (nombre fini\n",
    "d’éléments mal placés).\n",
    "<li>Complexité temporelle quadratique et spatiale constante dans\n",
    "le cas le pire.\n",
    "    </ul>\n",
    "Tri recommandé pour trier quelques dizaines d’éléments."
   ]
  },
  {
   "cell_type": "markdown",
   "metadata": {},
   "source": [
    "## <span style=\"color:#8B0000\"> 5- TRI PAR FUSION : "
   ]
  },
  {
   "cell_type": "code",
   "execution_count": 4,
   "metadata": {},
   "outputs": [
    {
     "name": "stdout",
     "output_type": "stream",
     "text": [
      "Le tableau trié est:\n",
      "1\n",
      "2\n",
      "10\n",
      "15\n",
      "19\n",
      "25\n",
      "80\n",
      "270\n"
     ]
    }
   ],
   "source": [
    "#  l'implémentation du tri par fusion\n",
    "\n",
    "def partition(arr, low, high):\n",
    "    i = (low-1)        \n",
    "    pivot = arr[high]     \n",
    " \n",
    "    for j in range(low, high):\n",
    "        if arr[j] <= pivot:\n",
    "            i = i+1\n",
    "            arr[i], arr[j] = arr[j], arr[i]\n",
    " \n",
    "    arr[i+1], arr[high] = arr[high], arr[i+1]\n",
    "    return (i+1)\n",
    "\n",
    "def quickSort(arr, low, high):\n",
    "    if len(arr) == 1:\n",
    "        return arr\n",
    "    if low < high:\n",
    " \n",
    "        pi = partition(arr, low, high)\n",
    "\n",
    "        quickSort(arr, low, pi-1)\n",
    "        quickSort(arr, pi+1, high)\n",
    " \n",
    " #  tester le code ci-dessus\n",
    "    \n",
    "list =[1, 270, 15, 10, 2, 19, 25, 80]\n",
    "n = len(list)\n",
    "quickSort(list, 0, n-1)\n",
    "print (\"Le tableau trié est:\")\n",
    "for i in range(n):\n",
    "    print(\"%d\" % list[i])"
   ]
  },
  {
   "cell_type": "markdown",
   "metadata": {},
   "source": [
    "###  <span style=\"color:green\"> Conclusion\n",
    "<ul>\n",
    "<li>Très bonne complexité\n",
    "<li>Pénible à écrire pour des tableaux\n",
    "<li>Beaucoup plus adapté aux listes\n",
    "    </ul>"
   ]
  },
  {
   "cell_type": "markdown",
   "metadata": {},
   "source": [
    "## <span style=\"color:#8B0000\">6- TRI RAPIDE:"
   ]
  },
  {
   "cell_type": "code",
   "execution_count": 5,
   "metadata": {},
   "outputs": [
    {
     "name": "stdout",
     "output_type": "stream",
     "text": [
      "liste initiale :  [21, 32, 37, 18, 99, 30, 74, 23, 52, 23]\n",
      "liste triee    :  [18, 21, 23, 23, 30, 32, 37, 52, 74, 99]\n"
     ]
    }
   ],
   "source": [
    "#  l'implémentation du tri rapide\n",
    "\n",
    "def qsort(u):\n",
    "    '''Quick-Sort : Algo du tri rapide'''\n",
    "    if u == []: return []\n",
    "    pivot, g, d = u[0], [], []\n",
    "    for x in u[1:]: g.append(x) if x<pivot else d.append(x)\n",
    "    return qsort(g)+[u[0]]+qsort(d)\n",
    "\n",
    "     #  tester le code ci-dessus\n",
    "liste=[21, 32, 37, 18, 99, 30, 74, 23, 52, 23] # Exemple de liste initiale\n",
    "liste_tri=qsort(liste) # Liste triée \n",
    "print('liste initiale : ',liste)\n",
    "print('liste triee    : ',liste_tri)"
   ]
  },
  {
   "cell_type": "markdown",
   "metadata": {},
   "source": [
    "###  <span style=\"color:green\"> Conclusion\n",
    "La complexité spatiale, si les parties constituées par la partition sont de tailles à peu près égales,log(n) et peut aller jusqu'à n lorsque la partition crée une des deux parties de taille 1. En revanche, si on prend soin de toujours faire le premier appel récursif sur la plus petite partie obtenue à la partition, alors la complexité spatiale est dans log(n) .\n",
    "\n"
   ]
  },
  {
   "cell_type": "markdown",
   "metadata": {},
   "source": [
    "##  <span style=\"color:purple\"> Tableau de n entiers :"
   ]
  },
  {
   "cell_type": "code",
   "execution_count": 6,
   "metadata": {},
   "outputs": [],
   "source": [
    "import random\n",
    "def random_tab(n):\n",
    "    tab = random.sample(range(0,n), n)\n",
    "    return tab"
   ]
  },
  {
   "cell_type": "code",
   "execution_count": 7,
   "metadata": {},
   "outputs": [
    {
     "data": {
      "text/plain": [
       "[0, 1, 2, 3, 4, 5, 6, 7, 8, 9, 10, 11, 12, 13, 14, 15, 16, 17, 18, 19]"
      ]
     },
     "execution_count": 7,
     "metadata": {},
     "output_type": "execute_result"
    }
   ],
   "source": [
    "tri_selection(random_tab(20))"
   ]
  },
  {
   "cell_type": "markdown",
   "metadata": {},
   "source": [
    "# <span style=\"color:#8B0000\"> 7 - Mesurer le temps d’exécution"
   ]
  },
  {
   "cell_type": "code",
   "execution_count": 8,
   "metadata": {},
   "outputs": [],
   "source": [
    "import time\n",
    "def time_selection(n):\n",
    " \n",
    "    start=time.time()\n",
    "    tri_selection(random_tab(n))\n",
    "    total_time = time.time() - start\n",
    "    return total_time\n",
    "\n",
    "def time_insertion(n):\n",
    " \n",
    "    start=time.time()\n",
    "    tri_insertion(random_tab(n))\n",
    "    total_time = time.time() - start\n",
    "    return total_time\n",
    "\n",
    "def time_bulle(n):\n",
    " \n",
    "    start=time.time()\n",
    "    tri_bulle(random_tab(n))\n",
    "    total_time = time.time() - start\n",
    "    return total_time\n",
    "\n",
    "def time_bulle(n):\n",
    " \n",
    "    start=time.time()\n",
    "    tri_bulle(random_tab(n))\n",
    "    total_time = time.time() - start\n",
    "    return total_time\n",
    "def time_rapide(n):\n",
    " \n",
    "    start=time.time()\n",
    "    qsort(random_tab(n))\n",
    "    total_time = time.time() - start\n",
    "    return total_time\n",
    "def time_fusion(n):\n",
    " \n",
    "    start=time.time()\n",
    "    quickSort(random_tab(n),0,n-1)\n",
    "    total_time = time.time() - start\n",
    "    return total_time"
   ]
  },
  {
   "cell_type": "markdown",
   "metadata": {},
   "source": [
    "##  <span style=\"color:purple\"> Affichage :"
   ]
  },
  {
   "cell_type": "code",
   "execution_count": 9,
   "metadata": {},
   "outputs": [],
   "source": [
    "def calcul_time(n):\n",
    "    print(\"time_selection: \",time_selection(n))\n",
    "    print(\"time_insertion: \",time_insertion(n))\n",
    "    print(\"time_bulle: \",time_bulle(n))\n",
    "    print(\"time_rapid: \",time_rapide(n))\n",
    "    print(\"time_fusion: \",time_fusion(n))"
   ]
  },
  {
   "cell_type": "markdown",
   "metadata": {},
   "source": [
    "###  <span style=\"color:#0000A0 \"> n = 20000 :"
   ]
  },
  {
   "cell_type": "code",
   "execution_count": 52,
   "metadata": {},
   "outputs": [
    {
     "name": "stdout",
     "output_type": "stream",
     "text": [
      "time_selection:  20.06009578704834\n",
      "time_insertion:  23.97605800628662\n",
      "time_bulle:  52.70870900154114\n",
      "time_rapid:  0.06317830085754395\n",
      "time_fusion:  0.07017207145690918\n"
     ]
    }
   ],
   "source": [
    "calcul_time(20000)"
   ]
  },
  {
   "cell_type": "markdown",
   "metadata": {},
   "source": [
    "###  <span style=\"color:#0000A0 \"> n = 25000 :"
   ]
  },
  {
   "cell_type": "code",
   "execution_count": 30,
   "metadata": {},
   "outputs": [
    {
     "name": "stdout",
     "output_type": "stream",
     "text": [
      "time_selection:  28.592918395996094\n",
      "time_insertion:  32.335044145584106\n",
      "time_bulle:  63.82290744781494\n",
      "time_rapid:  0.07878732681274414\n",
      "time_fusion:  0.08577179908752441\n"
     ]
    }
   ],
   "source": [
    "calcul_time(25000)"
   ]
  },
  {
   "cell_type": "markdown",
   "metadata": {},
   "source": [
    "###  <span style=\"color:#0000A0 \"> n = 30000 :"
   ]
  },
  {
   "cell_type": "code",
   "execution_count": 53,
   "metadata": {},
   "outputs": [
    {
     "name": "stdout",
     "output_type": "stream",
     "text": [
      "time_selection:  39.6094696521759\n",
      "time_insertion:  54.096306562423706\n",
      "time_bulle:  95.19768476486206\n",
      "time_rapid:  0.09405136108398438\n",
      "time_fusion:  0.1107795238494873\n"
     ]
    }
   ],
   "source": [
    "calcul_time(30000)"
   ]
  },
  {
   "cell_type": "markdown",
   "metadata": {},
   "source": [
    "###  <span style=\"color:#0000A0 \"> n = 35000 :"
   ]
  },
  {
   "cell_type": "code",
   "execution_count": 54,
   "metadata": {},
   "outputs": [
    {
     "name": "stdout",
     "output_type": "stream",
     "text": [
      "time_selection:  63.109076499938965\n",
      "time_insertion:  68.80939173698425\n",
      "time_bulle:  129.33588433265686\n",
      "time_rapid:  0.10771012306213379\n",
      "time_fusion:  0.1296529769897461\n"
     ]
    }
   ],
   "source": [
    "calcul_time(35000)"
   ]
  },
  {
   "cell_type": "markdown",
   "metadata": {},
   "source": [
    "###  <span style=\"color:#0000A0 \"> n = 40000 :"
   ]
  },
  {
   "cell_type": "code",
   "execution_count": 55,
   "metadata": {},
   "outputs": [
    {
     "name": "stdout",
     "output_type": "stream",
     "text": [
      "time_selection:  69.73113965988159\n",
      "time_insertion:  87.20958733558655\n",
      "time_bulle:  168.56266832351685\n",
      "time_rapid:  0.1256260871887207\n",
      "time_fusion:  0.15957307815551758\n"
     ]
    }
   ],
   "source": [
    "calcul_time(40000)"
   ]
  },
  {
   "cell_type": "markdown",
   "metadata": {},
   "source": [
    "###  <span style=\"color:#0000A0 \"> n = 45000 :"
   ]
  },
  {
   "cell_type": "code",
   "execution_count": 56,
   "metadata": {},
   "outputs": [
    {
     "name": "stdout",
     "output_type": "stream",
     "text": [
      "time_selection:  88.09323453903198\n",
      "time_insertion:  109.57921743392944\n",
      "time_bulle:  217.2318558692932\n",
      "time_rapid:  0.14261841773986816\n",
      "time_fusion:  0.2273557186126709\n"
     ]
    }
   ],
   "source": [
    "calcul_time(45000)"
   ]
  },
  {
   "cell_type": "markdown",
   "metadata": {},
   "source": [
    "###  <span style=\"color:#0000A0 \"> n = 50000 :"
   ]
  },
  {
   "cell_type": "code",
   "execution_count": 10,
   "metadata": {},
   "outputs": [
    {
     "name": "stdout",
     "output_type": "stream",
     "text": [
      "time_selection:  128.5190465450287\n",
      "time_insertion:  151.69487857818604\n",
      "time_bulle:  299.1203911304474\n",
      "time_rapid:  0.15374279022216797\n",
      "time_fusion:  0.2665114402770996\n"
     ]
    }
   ],
   "source": [
    "calcul_time(50000)"
   ]
  },
  {
   "cell_type": "markdown",
   "metadata": {},
   "source": [
    "##  <span style=\"color:purple\">Graphiquement  :"
   ]
  },
  {
   "cell_type": "code",
   "execution_count": 2,
   "metadata": {},
   "outputs": [
    {
     "data": {
      "image/png": "[encoded data removed]",
      "text/plain": [
       "<Figure size 720x360 with 1 Axes>"
      ]
     },
     "metadata": {
      "needs_background": "light"
     },
     "output_type": "display_data"
    },
    {
     "name": "stdout",
     "output_type": "stream",
     "text": [
      "[20.06009578704834, 28.592918395996094, 39.6094696521759, 63.109076499938965, 69.73113965988159, 88.09323453903198, 128.5190465450287]\n"
     ]
    }
   ],
   "source": [
    "import matplotlib.pyplot as plt\n",
    "x=[20000,25000,30000,35000,40000,45000,50000]\n",
    "y_selection=[20.06009578704834,28.592918395996094,39.6094696521759,63.109076499938965,69.73113965988159,88.09323453903198,128.5190465450287]\n",
    "y_insertion=[23.97605800628662,32.335044145584106,54.096306562423706,87.20958733558655,68.80939173698425,109.57921743392944,151.69487857818604]\n",
    "y_bulle=[52.70870900154114,63.82290744781494,95.19768476486206,129.33588433265686,168.56266832351685,217.2318558692932,299.1203911304474]\n",
    "y_rapid=[0.06317830085754395,0.07878732681274414,0.09405136108398438,0.10771012306213379,0.1256260871887207,0.14261841773986816,0.15374279022216797]\n",
    "y_fusion=[0.07017207145690918,0.08577179908752441,0.1107795238494873,0.1296529769897461,0.15957307815551758,0.2273557186126709,0.2665114402770996]\n",
    "fig=plt.figure(1,figsize=(10,5))\n",
    "plt.plot(x,y_selection,label='tri_selection')\n",
    "plt.plot(x,y_insertion,label='tri_insertion')\n",
    "plt.plot(x,y_bulle,label='tri_bulle')\n",
    "plt.plot(x,y_rapid,label='tri_rapid', marker='o')\n",
    "plt.plot(x,y_fusion,label=\"tri_fusion\")\n",
    "plt.xlabel('valeur de N')\n",
    "plt.ylabel('temps')\n",
    "plt.legend()\n",
    "plt.show()"
   ]
  },
  {
   "cell_type": "code",
   "execution_count": null,
   "metadata": {},
   "outputs": [],
   "source": []
  }
 ],
 "metadata": {
  "kernelspec": {
   "display_name": "Python 3",
   "language": "python",
   "name": "python3"
  },
  "language_info": {
   "codemirror_mode": {
    "name": "ipython",
    "version": 3
   },
   "file_extension": ".py",
   "mimetype": "text/x-python",
   "name": "python",
   "nbconvert_exporter": "python",
   "pygments_lexer": "ipython3",
   "version": "3.8.3"
  }
 },
 "nbformat": 4,
 "nbformat_minor": 4
}
